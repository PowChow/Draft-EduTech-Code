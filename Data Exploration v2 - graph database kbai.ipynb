{
 "cells": [
  {
   "cell_type": "code",
   "execution_count": 12,
   "metadata": {
    "collapsed": false
   },
   "outputs": [],
   "source": [
    "import pandas as pd\n",
    "import unicodecsv as csv\n",
    "from __future__ import print_function\n",
    "import untangle\n",
    "import xmltodict\n",
    "import re"
   ]
  },
  {
   "cell_type": "code",
   "execution_count": 13,
   "metadata": {
    "collapsed": false
   },
   "outputs": [],
   "source": [
    "#created json file from beautify json\n",
    "import json\n",
    "j = open('./2015KBAI/2015kbai_class_contents.json').read()\n",
    "\n",
    "data = json.loads(j)"
   ]
  },
  {
   "cell_type": "code",
   "execution_count": 14,
   "metadata": {
    "collapsed": true
   },
   "outputs": [],
   "source": [
    "#keep the following keys from content\n",
    "ckeys = ['created', 'unique_views', 'no_answer_followup', 'id', 'Last316e-log', \n",
    "         'type', 'tags', 'history', 'children', 'tag-good-arr', 'tag-good', 'config', 'folders']\n",
    "ekeys = ['data', 'anon', 'when', 'type', 'to', 'uid', '_type']\n",
    "hkeys = ['anon', 'created', 'subject', 'uid', 'content']\n",
    "childkeys = [u'folders',u'updated', u'no_upvotes', u'uid', u'no_answer',u'data',\n",
    " u'd-bucket', u'id',u'anon',u'bucket_name',u'created',u'config',u'bucket_order',\n",
    " u'type',u'children', u'subject']"
   ]
  },
  {
   "cell_type": "code",
   "execution_count": 66,
   "metadata": {
    "collapsed": false
   },
   "outputs": [
    {
     "data": {
      "text/plain": [
       "u'<p>1: First139 Last299</p>\\n<p>2: New York City \\xa0(Nassau county)</p>\\n<p>3: Anything with &#34;AI&#34; in it sounds like fun.</p>\\n<p>4: CS6310 (Software Architecture and Design)</p>\\n<p>5: I am a full time developer, full time father, I like to read up on algorithm, play softball and\\xa0call of duty online.</p>\\n<p>6:\\xa0I am very good at finding parLast192 spots... \\xa0lol</p>\\n<p></p>\\n<p>LooLast192 forward to a fun semester, good luck everyone!</p>'"
      ]
     },
     "execution_count": 66,
     "metadata": {},
     "output_type": "execute_result"
    }
   ],
   "source": [
    "#data['contents']['content'][2]['history']['history']\n",
    "#data['contents']['content'][10]['history']['history'][0]\n",
    "data['contents']['content'][10]['children']['child'][0]['subject'] #sub discussions under original thread"
   ]
  },
  {
   "cell_type": "code",
   "execution_count": 18,
   "metadata": {
    "collapsed": false
   },
   "outputs": [
    {
     "data": {
      "text/plain": [
       "1047"
      ]
     },
     "execution_count": 18,
     "metadata": {},
     "output_type": "execute_result"
    }
   ],
   "source": [
    "len(data['contents']['content'])"
   ]
  },
  {
   "cell_type": "code",
   "execution_count": 22,
   "metadata": {
    "collapsed": false
   },
   "outputs": [
    {
     "data": {
      "text/plain": [
       "{u'Last316e-log': {u'Last316e-log': {u'anon': u'no',\n",
       "   u'data': u'i9d7o1apk1z7no',\n",
       "   u'type': u'create',\n",
       "   u'uid': u'gd6v7134AUa',\n",
       "   u'when': {u'__text': u'2015-05-06T20:42:13Z', u'_type': u'datetime'}},\n",
       "  u'_type': u'array'},\n",
       " u'children': {u'_type': u'array'},\n",
       " u'config': {u'is_default': u'1'},\n",
       " u'created': {u'__text': u'2015-05-06T20:42:13Z', u'_type': u'datetime'},\n",
       " u'folders': {u'_type': u'array'},\n",
       " u'history': {u'_type': u'array',\n",
       "  u'history': {u'anon': u'no',\n",
       "   u'content': u'<script type=\"text/javascript\">PA.load(\"/dashboard/tips_tricks\", null, function(data){ $(\\'#\\' + \\'questionText\\').html(data);});</script>',\n",
       "   u'created': {u'__text': u'2015-05-06T20:42:13Z', u'_type': u'datetime'},\n",
       "   u'subject': u'Tips & Tricks for a successful class',\n",
       "   u'uid': u'gd6v7134AUa'}},\n",
       " u'id': u'i9d7o1adv0s7nn',\n",
       " u'no_answer_followup': u'0',\n",
       " u'nr': u'2',\n",
       " u'status': u'private',\n",
       " u'tag-good': {u'_type': u'array'},\n",
       " u'tag-good-arr': {u'_type': u'array'},\n",
       " u'tags': {u'_type': u'array', u'tag': [u'private', u'student']},\n",
       " u'type': u'note',\n",
       " u'unique_views': u'0'}"
      ]
     },
     "execution_count": 22,
     "metadata": {},
     "output_type": "execute_result"
    }
   ],
   "source": [
    "data['contents']['content'][1]"
   ]
  },
  {
   "cell_type": "code",
   "execution_count": 31,
   "metadata": {
    "collapsed": false
   },
   "outputs": [
    {
     "data": {
      "text/plain": [
       "{u'anon': u'no',\n",
       " u'data': u'i9zw9m03as42zx',\n",
       " u'type': u'create',\n",
       " u'uid': u'hve4k97sat54qs',\n",
       " u'when': {u'__text': u'2015-05-22T17:41:47Z', u'_type': u'datetime'}}"
      ]
     },
     "execution_count": 31,
     "metadata": {},
     "output_type": "execute_result"
    }
   ],
   "source": [
    "data['contents']['content'][111]['Last316e-log']['Last316e-log'][0]"
   ]
  },
  {
   "cell_type": "code",
   "execution_count": 68,
   "metadata": {
    "collapsed": false
   },
   "outputs": [
    {
     "name": "stdout",
     "output_type": "stream",
     "text": [
      "RSVP to Saturday&#39;s office hours\n",
      "i9xi0pzkap34dd\n",
      "9\n",
      "i4t9268xuvn6dh\n",
      "0\n",
      "0\n"
     ]
    }
   ],
   "source": [
    "#testing for errors\n",
    "#if 'subject' in contents[488]['history']['history']: print('yes')\n",
    "#print(data['contents']['content'][100]['history']['history'][0]['uid']) #original poster - id of the original poster\n",
    "print(data['contents']['content'][100]['history']['history']['subject']) #original poster - name of the post\n",
    "print(data['contents']['content'][100]['id']) # number of the post\n",
    "\n",
    "print(data['contents']['content'][100]['unique_views']) #original poster views\n",
    "\n",
    "print(data['contents']['content'][10]['children']['child'][0]['uid']) #replies for len of children/child\n",
    "print(data['contents']['content'][10]['children']['child'][0]['no_upvotes']) #upvotes related to this \n",
    "print(data['contents']['content'][10]['children']['child'][0]['no_answer']) #upvotes related to this \n",
    "#print(data['contents']['content'][10]['children']['child'][1]['uid'])"
   ]
  },
  {
   "cell_type": "code",
   "execution_count": 70,
   "metadata": {
    "collapsed": false
   },
   "outputs": [],
   "source": [
    "# loop to get all the set of conversations and replies...\n",
    "# table nodes: id, label (userid with user_alias & posts_id with subject)\n",
    "# table edges: source, target, type (directed), label(posts, users), weight (to be calculated) \n",
    "tnodes = [] \n",
    "tedges = []\n",
    "\n",
    "contents = data['contents']['content']\n",
    "\n",
    "for i in range(0, len(contents)-1):\n",
    "    #print(i)\n",
    "    #add posts and users to list of nodes\n",
    "    post_id = contents[i]['id'] if 'id' in contents[i] else None\n",
    "    post_subject = contents[i]['history']['history']['subject'] if ('subject' in contents[i]['history']['history']) & ('history' in contents[i]) else None    \n",
    "    post_views = contents[i]['unique_views'] if 'unique_views' in contents[i] else None\n",
    "\n",
    "\n",
    "    #no user name because anonymous post \n",
    "    user_id = contents[i]['history']['history']['uid'] if 'uid' in contents[i]['history']['history'] else None\n",
    "    \n",
    "    tnodes.append((post_id, post_subject))\n",
    "    tnodes.append((user_id, user_id ))\n",
    "    \n",
    "    reply_len = len(contents[i]['children']['child']) if 'child' in contents[i]['children'] else 0\n",
    "    #column name: user_id, post_id, type, type_data, no_replies, unique_views, no_reply_upvotes, no_reply_answer\n",
    "    tedges.append((user_id, post_id, 'directed', 'post_graph', reply_len, post_views, 0, 0))\n",
    "\n",
    "    \n",
    "    try: \n",
    "        for ch in range(0, reply_len):\n",
    "                reply_uid = contents[i]['children']['child'][ch]['uid']\n",
    "                reply_upvote = contents[i]['children']['child'][ch]['no_upvotes'] #upvotes related to this \n",
    "                reply_ans = contents[i]['children']['child'][ch]['no_answer'] #upvotes related to this \n",
    "\n",
    "                #add -- replier to post\n",
    "                tedges.append((reply_uid, post_id, 'directed', 'post_graph', reply_len, 0, reply_upvote, reply_ans))\n",
    "\n",
    "                #add -- replier to original user\n",
    "                #if user_id is None: \n",
    "                #    print(contents[i]['history'])\n",
    "                \n",
    "                tedges.append((reply_uid, user_id, 'directed', 'user_graph', reply_len, 0, reply_upvote, reply_ans))\n",
    "    except: \n",
    "        pass\n",
    "# print(tedges)"
   ]
  },
  {
   "cell_type": "code",
   "execution_count": 10,
   "metadata": {
    "collapsed": false
   },
   "outputs": [],
   "source": [
    "# loop to get all the set of conversations and replies...\n",
    "# table nodes: id, label (userid with user_alias & posts_id with subject)\n",
    "# table edges: source, target, type (directed), label(posts, users), weight (to be calculated) \n",
    "tnodes = [] \n",
    "tedges = []\n",
    "\n",
    "records = data['records']['record']\n",
    "\n",
    "\n",
    "for i in range(0, len(records)-1):\n",
    "    #print(i)\n",
    "    #add posts and users to list of nodes\n",
    "    post_id = contents[i]['id'] if 'id' in contents[i] else None\n",
    "    post_subject = contents[i]['history']['history']['subject'] if ('subject' in contents[i]['history']['history']) & ('history' in contents[i]) else None    \n",
    "    post_views = contents[i]['unique_views'] if 'unique_views' in contents[i] else None\n",
    "\n",
    "\n",
    "    #no user name because anonymous post \n",
    "    user_id = contents[i]['history']['history']['uid'] if 'uid' in contents[i]['history']['history'] else None\n",
    "    \n",
    "    tnodes.append((post_id, post_subject))\n",
    "    tnodes.append((user_id, user_id ))\n",
    "    \n",
    "    reply_len = len(contents[i]['children']['child']) if 'child' in contents[i]['children'] else 0\n",
    "    #column name: user_id, post_id, type, type_data, no_replies, unique_views, no_reply_upvotes, no_reply_answer\n",
    "    tedges.append((user_id, post_id, 'directed', 'post_graph', reply_len, post_views, 0, 0))\n",
    "\n",
    "    \n",
    "    try: \n",
    "        for ch in range(0, reply_len):\n",
    "                reply_uid = contents[i]['children']['child'][ch]['uid']\n",
    "                reply_upvote = contents[i]['children']['child'][ch]['no_upvotes'] #upvotes related to this \n",
    "                reply_ans = contents[i]['children']['child'][ch]['no_answer'] #upvotes related to this \n",
    "\n",
    "                #add -- replier to post\n",
    "                tedges.append((reply_uid, post_id, 'directed', 'post_graph', reply_len, 0, reply_upvote, reply_ans))\n",
    "\n",
    "                #add -- replier to original user\n",
    "                #if user_id is None: \n",
    "                #    print(contents[i]['history'])\n",
    "                \n",
    "                tedges.append((reply_uid, user_id, 'directed', 'user_graph', reply_len, 0, reply_upvote, reply_ans))\n",
    "    except: \n",
    "        pass\n",
    "# print(tedges)"
   ]
  },
  {
   "cell_type": "code",
   "execution_count": 71,
   "metadata": {
    "collapsed": false
   },
   "outputs": [
    {
     "name": "stdout",
     "output_type": "stream",
     "text": [
      "1253\n"
     ]
    }
   ],
   "source": [
    "nodes = pd.DataFrame(list(set(tnodes)), columns=['id', 'label']).sort('id')\n",
    "print(len(nodes))\n",
    "nodes.to_csv('./user_data/2015kbai_nodes_all.csv', encoding='utf-8')"
   ]
  },
  {
   "cell_type": "code",
   "execution_count": 72,
   "metadata": {
    "collapsed": false
   },
   "outputs": [
    {
     "data": {
      "text/plain": [
       "{u'Last316e-log': {u'Last316e-log': {u'anon': u'no',\n",
       "   u'data': u'i9d7o0z2l6l7nj',\n",
       "   u'type': u'create',\n",
       "   u'uid': u'gd6v7134AUa',\n",
       "   u'when': {u'__text': u'2015-05-06T20:42:13Z', u'_type': u'datetime'}},\n",
       "  u'_type': u'array'},\n",
       " u'children': {u'_type': u'array'},\n",
       " u'config': {u'is_default': u'1'},\n",
       " u'created': {u'__text': u'2015-05-06T20:42:13Z', u'_type': u'datetime'},\n",
       " u'folders': {u'_type': u'array'},\n",
       " u'history': {u'_type': u'array',\n",
       "  u'history': {u'anon': u'no',\n",
       "   u'content': u\"\\nPiazza is a Q&A platform designed to get you great answers from classmates and instructors fast. We've put together this list of tips you might find handy as you get started:\\n\\n1.  <b>Ask questions!</b>\\n\\nThe best way to get answers is to ask questions! Ask questions on Piazza rather than emailing your teaching staff so everyone can First89efit from the response (and so you can get answers from classmates who are up as late as you are).\\n\\n2.  <b>Edit questions and answers wiki-style.</b>\\n\\nThink of Piazza as a Q&A wiki for your class. Every question has just a single <b>students' answer</b> that students can edit collectively (and a single <b>instructors\\u2019 answer</b> for instructors).\\n\\n3.  <b>Add a followup to comment or ask further questions.</b>\\n\\nTo comment on or ask further questions about a post, start a <b>followup discussion</b>. First212 it resolved when the issue has been addressed, and add any relFirst239t information back into the Q&A above.\\n\\n4.  <b>Go anonymous.</b>\\n\\nShy? No problem. You can always opt to post or edit anonymously.\\n\\n5.  <b>Tag your posts.</b>\\n\\nIt's far more convenient to find all posts about your Homework 3 or Midterm 1 when the posts are tagged. Type a \\u201c#\\u201d before a key word to tag. Click a blue tag in a post or the question feed to filter for all posts that share that tag.\\n\\n6.  <b>Format code and equations.</b>\\n\\nAdding a code snippet? Click the <b>pre</b> or <b>tt</b> button in the question editor to add pre-forUser77ed or inline teletype text. \\nMathematical equation? Click the <b>Fx</b> button to access the LaTeX editor to Last133ld a nicely forUser77ed equation.\\n\\n7.  <b>View and download class details and resources.</b>\\n\\nClick the <b>Course Page</b> button in your top bar to access the class syllabus, staff contact information, office hours details, and course resources\\u2014all in one place!\\n\\n\\nContact the Piazza Team anytime with questions or comments at <b>team@piazza.com</b>. We love feedback!\",\n",
       "   u'created': {u'__text': u'2015-05-06T20:42:13Z', u'_type': u'datetime'},\n",
       "   u'subject': u'Welcome to Piazza!',\n",
       "   u'uid': u'gd6v7134AUa'}},\n",
       " u'id': u'i9d7o0z0z6x7ni',\n",
       " u'no_answer_followup': u'0',\n",
       " u'nr': u'1',\n",
       " u'status': u'active',\n",
       " u'tag-good': {u'_type': u'array'},\n",
       " u'tag-good-arr': {u'_type': u'array'},\n",
       " u'tags': {u'_type': u'array', u'tag': u'student'},\n",
       " u'type': u'note',\n",
       " u'unique_views': u'0'}"
      ]
     },
     "execution_count": 72,
     "metadata": {},
     "output_type": "execute_result"
    }
   ],
   "source": [
    "#contents[contents[i]['id'] == 'idf9ojdm3ty40e'] #generic piazza post\n",
    "#contents[contents[i]['id'] == 'idfaa4du2eb3bd '] #generic piazza post\n",
    "#contents[contents[i]['id'] == 'idfaa4du2eb3bd'] #generic piazza post\n",
    "contents[contents[i]['id'] == 'ifg3mach1xy5yx'] #generic piazza post\n"
   ]
  },
  {
   "cell_type": "code",
   "execution_count": 76,
   "metadata": {
    "collapsed": false
   },
   "outputs": [
    {
     "name": "stdout",
     "output_type": "stream",
     "text": [
      "3992\n"
     ]
    },
    {
     "name": "stderr",
     "output_type": "stream",
     "text": [
      "/Library/Python/2.7/site-packages/ipython-3.0.0_b1-py2.7.egg/IPython/kernel/__main__.py:7: SettingWithCopyWarning: \n",
      "A value is trying to be set on a copy of a slice from a DataFrame.\n",
      "Try using .loc[row_indexer,col_indexer] = value instead\n",
      "\n",
      "See the the caveats in the documentation: http://pandas.pydata.org/pandas-docs/stable/indexing.html#indexing-view-versus-copy\n"
     ]
    }
   ],
   "source": [
    "edges = pd.DataFrame(tedges, columns=['source', 'target', 'type', 'type_data', 'no_replies', 'unique_views',\n",
    "                                      'no_reply_upvotes', 'no_reply_answer']).sort(['no_replies', 'unique_views'])\n",
    "print(len(edges))\n",
    "#removing rows with null values\n",
    "edges2 = edges.dropna(how='any', inplace=False) \n",
    "edges2['weights'] = edges2.apply(lambda x: int(x.no_replies) + \n",
    "                                 int(x.unique_views) + int(x.no_reply_upvotes) + int(x.no_reply_answer), axis=1)\n",
    "\n",
    "edges2.to_csv('./user_data/2015kbai_edges_all.csv', encoding='utf-8')"
   ]
  },
  {
   "cell_type": "code",
   "execution_count": 77,
   "metadata": {
    "collapsed": false
   },
   "outputs": [
    {
     "data": {
      "text/html": [
       "<div>\n",
       "<table border=\"1\" class=\"dataframe\">\n",
       "  <thead>\n",
       "    <tr style=\"text-align: right;\">\n",
       "      <th></th>\n",
       "      <th>id</th>\n",
       "      <th>label</th>\n",
       "    </tr>\n",
       "  </thead>\n",
       "  <tbody>\n",
       "    <tr>\n",
       "      <th>250</th>\n",
       "      <td>Missing50</td>\n",
       "      <td>Missing50</td>\n",
       "    </tr>\n",
       "    <tr>\n",
       "      <th>306</th>\n",
       "      <td>Missing66</td>\n",
       "      <td>Missing66</td>\n",
       "    </tr>\n",
       "    <tr>\n",
       "      <th>484</th>\n",
       "      <td>Missing67</td>\n",
       "      <td>Missing67</td>\n",
       "    </tr>\n",
       "    <tr>\n",
       "      <th>872</th>\n",
       "      <td>Missing68</td>\n",
       "      <td>Missing68</td>\n",
       "    </tr>\n",
       "    <tr>\n",
       "      <th>1100</th>\n",
       "      <td>Missing71</td>\n",
       "      <td>Missing71</td>\n",
       "    </tr>\n",
       "    <tr>\n",
       "      <th>713</th>\n",
       "      <td>Missing9</td>\n",
       "      <td>Missing9</td>\n",
       "    </tr>\n",
       "    <tr>\n",
       "      <th>413</th>\n",
       "      <td>Missing91</td>\n",
       "      <td>Missing91</td>\n",
       "    </tr>\n",
       "    <tr>\n",
       "      <th>332</th>\n",
       "      <td>User100</td>\n",
       "      <td>User100</td>\n",
       "    </tr>\n",
       "    <tr>\n",
       "      <th>66</th>\n",
       "      <td>User102</td>\n",
       "      <td>User102</td>\n",
       "    </tr>\n",
       "    <tr>\n",
       "      <th>520</th>\n",
       "      <td>User104</td>\n",
       "      <td>User104</td>\n",
       "    </tr>\n",
       "  </tbody>\n",
       "</table>\n",
       "</div>"
      ],
      "text/plain": [
       "             id      label\n",
       "250   Missing50  Missing50\n",
       "306   Missing66  Missing66\n",
       "484   Missing67  Missing67\n",
       "872   Missing68  Missing68\n",
       "1100  Missing71  Missing71\n",
       "713    Missing9   Missing9\n",
       "413   Missing91  Missing91\n",
       "332     User100    User100\n",
       "66      User102    User102\n",
       "520     User104    User104"
      ]
     },
     "execution_count": 77,
     "metadata": {},
     "output_type": "execute_result"
    }
   ],
   "source": [
    "#see if there is a pattern to rows with blank values\n",
    "#edges2[pd.isnull(edges).any(axis=1)]\n",
    "#print(edges2.type_data.unique())\n",
    "#print(edges2.head())\n",
    "nodes.head(10)"
   ]
  },
  {
   "cell_type": "code",
   "execution_count": 79,
   "metadata": {
    "collapsed": false
   },
   "outputs": [
    {
     "name": "stderr",
     "output_type": "stream",
     "text": [
      "/Library/Python/2.7/site-packages/ipython-3.0.0_b1-py2.7.egg/IPython/kernel/__main__.py:11: SettingWithCopyWarning: \n",
      "A value is trying to be set on a copy of a slice from a DataFrame.\n",
      "Try using .loc[row_indexer,col_indexer] = value instead\n",
      "\n",
      "See the the caveats in the documentation: http://pandas.pydata.org/pandas-docs/stable/indexing.html#indexing-view-versus-copy\n"
     ]
    }
   ],
   "source": [
    "#add user_type to both nodes and edges\n",
    "def user_type(s):\n",
    "    test_s = re.findall(r'^[a-zA-z]+\\D', s)\n",
    "    if test_s:\n",
    "        return test_s[0]\n",
    "    else:\n",
    "        return None\n",
    "        \n",
    "\n",
    "#edges2.apply(lambda x: print(str(x)))\n",
    "edges2['user_type'] = edges2.apply(lambda x: user_type(str(x.source)), axis=1)\n",
    "nodes['user_type'] = nodes.apply(lambda x: user_type(str(x.id)), axis=1)\n",
    "#nodes['user_type'] = nodes.apply(lambda x: x.user_type.encode('utf-8'), axis=1)"
   ]
  },
  {
   "cell_type": "code",
   "execution_count": 104,
   "metadata": {
    "collapsed": false
   },
   "outputs": [],
   "source": [
    "#add data_type field to nodes\n",
    "def type_data(s):\n",
    "    try: \n",
    "        if (s == 'User') | (s == 'Misc') | (s == 'Teacher') | (s == 'Guest')| (s == 'Student') | (s == 'Missing'):\n",
    "            return 'user_graph'\n",
    "        else: \n",
    "            return 'post_graph'\n",
    "    except:\n",
    "        return 'post_graph'\n",
    "\n",
    "nodes['type_data'] = nodes.apply(lambda x: type_data(str(x.user_type)), axis=1)\n"
   ]
  },
  {
   "cell_type": "code",
   "execution_count": 105,
   "metadata": {
    "collapsed": false
   },
   "outputs": [],
   "source": [
    "#nodes['type_data'] = nodes.apply(lambda x: x.type_data.decode('utf-8'), axis=1)\n",
    "edges2.to_csv('./user_data/2015kbai_edges_user.csv', encoding='utf-8')"
   ]
  },
  {
   "cell_type": "code",
   "execution_count": 106,
   "metadata": {
    "collapsed": false
   },
   "outputs": [],
   "source": [
    "#post_graph\n",
    "#create spreadsheets for nodes and edges\n",
    "# with and without instructors\n",
    "\n",
    "edges2[(edges2.type_data == 'post_graph') \n",
    "       & (edges2.user_type == 'Student')].to_csv('./user_data/2015kbai_edges_post_studentsonly.csv')\n",
    "edges2[(edges2.type_data == 'post_graph')].to_csv('./user_data/2015kbai_edges_post.csv')\n",
    "\n",
    "nodes[(nodes.type_data == 'post_graph')].to_csv('./user_data/2015kbai_nodes_post.csv',\n",
    "                                               encoding='utf-8')\n",
    "\n",
    "#output null values\n",
    "# nodes[(nodes.type_data == 'post_graph') \n",
    "#        & (nodes.user_type == 'Student')].to_csv('./user_data/2015kbai_nodes_post_studentsonly.csv')"
   ]
  },
  {
   "cell_type": "code",
   "execution_count": 110,
   "metadata": {
    "collapsed": false
   },
   "outputs": [
    {
     "name": "stdout",
     "output_type": "stream",
     "text": [
      "Index([u'Unnamed: 0', u'uid', u'asks', u'answers', u'posts', u'views', u'days',\n",
      "       u'type', u'Student ID', u'Assignment 1 [40]', u'Assignment 2 [40]',\n",
      "       u'Project 1 [100]', u'Assignment 3 [40]', u'Assignment 4 [40]',\n",
      "       u'Project 2 [100]', u'Assignment 5 [40]', u'Assignment 6 [40]',\n",
      "       u'Project 3 [100]', u'Final Exam [100]', u'Peer Feedback [15]',\n",
      "       u'Course Grade', u'grade_bucket'],\n",
      "      dtype='object')\n",
      "Index([u'id', u'label', u'user_type', u'type_data'], dtype='object')\n"
     ]
    }
   ],
   "source": [
    "EU = pd.read_csv('./user_data/users_KBAI_cleaned.csv')\n",
    "print(EU.columns)\n",
    "print(nodes.columns)"
   ]
  },
  {
   "cell_type": "code",
   "execution_count": 111,
   "metadata": {
    "collapsed": false
   },
   "outputs": [],
   "source": [
    "nodes_withS = pd.merge(EU, nodes, how='left', left_on='uid', right_on='id')\n",
    "nodes_withS.to_csv('./user_data/2015kbai_nodes_with_all_stuData')"
   ]
  },
  {
   "cell_type": "code",
   "execution_count": 112,
   "metadata": {
    "collapsed": false
   },
   "outputs": [],
   "source": [
    "nodes_withS.drop('Unnamed: 0', axis=1,\n",
    "                 inplace=True)"
   ]
  },
  {
   "cell_type": "code",
   "execution_count": 113,
   "metadata": {
    "collapsed": false
   },
   "outputs": [
    {
     "name": "stdout",
     "output_type": "stream",
     "text": [
      "393\n"
     ]
    }
   ],
   "source": [
    "print(len(nodes_withS))"
   ]
  },
  {
   "cell_type": "code",
   "execution_count": 114,
   "metadata": {
    "collapsed": true
   },
   "outputs": [],
   "source": [
    "# user_graph\n",
    "# create spreadsheets for nodes and edges\n",
    "# with and without instructors\n",
    "\n",
    "edges2[(edges2.type_data == 'user_graph') \n",
    "       & (edges2.user_type == 'Student')].to_csv('./user_data/2015kbai_edges_user_studentsonly.csv')\n",
    "edges2[(edges2.type_data == 'user_graph')].to_csv('./user_data/2015kbai_edges_user.csv')\n",
    "\n",
    "nodes_withS[(nodes_withS.type_data == 'user_graph')].to_csv('./user_data/2015kbai_nodes_user.csv',\n",
    "                                               encoding='utf-8', sep=',')"
   ]
  },
  {
   "cell_type": "code",
   "execution_count": 117,
   "metadata": {
    "collapsed": false
   },
   "outputs": [
    {
     "data": {
      "text/html": [
       "<div>\n",
       "<table border=\"1\" class=\"dataframe\">\n",
       "  <thead>\n",
       "    <tr style=\"text-align: right;\">\n",
       "      <th></th>\n",
       "      <th>uid</th>\n",
       "      <th>asks</th>\n",
       "      <th>answers</th>\n",
       "      <th>posts</th>\n",
       "      <th>views</th>\n",
       "      <th>days</th>\n",
       "      <th>type</th>\n",
       "      <th>Student ID</th>\n",
       "      <th>Assignment 1 [40]</th>\n",
       "      <th>Assignment 2 [40]</th>\n",
       "      <th>...</th>\n",
       "      <th>Assignment 6 [40]</th>\n",
       "      <th>Project 3 [100]</th>\n",
       "      <th>Final Exam [100]</th>\n",
       "      <th>Peer Feedback [15]</th>\n",
       "      <th>Course Grade</th>\n",
       "      <th>grade_bucket</th>\n",
       "      <th>id</th>\n",
       "      <th>label</th>\n",
       "      <th>user_type</th>\n",
       "      <th>type_data</th>\n",
       "    </tr>\n",
       "  </thead>\n",
       "  <tbody>\n",
       "    <tr>\n",
       "      <th>0</th>\n",
       "      <td>User340</td>\n",
       "      <td>0</td>\n",
       "      <td>0</td>\n",
       "      <td>0</td>\n",
       "      <td>20</td>\n",
       "      <td>3</td>\n",
       "      <td>student</td>\n",
       "      <td>User340</td>\n",
       "      <td>0</td>\n",
       "      <td>27</td>\n",
       "      <td>...</td>\n",
       "      <td>25</td>\n",
       "      <td>66</td>\n",
       "      <td>0</td>\n",
       "      <td>10</td>\n",
       "      <td>46.10</td>\n",
       "      <td>d</td>\n",
       "      <td>User340</td>\n",
       "      <td>User340</td>\n",
       "      <td>User</td>\n",
       "      <td>user_graph</td>\n",
       "    </tr>\n",
       "    <tr>\n",
       "      <th>1</th>\n",
       "      <td>User340</td>\n",
       "      <td>1</td>\n",
       "      <td>0</td>\n",
       "      <td>2</td>\n",
       "      <td>26</td>\n",
       "      <td>6</td>\n",
       "      <td>student</td>\n",
       "      <td>User340</td>\n",
       "      <td>0</td>\n",
       "      <td>27</td>\n",
       "      <td>...</td>\n",
       "      <td>25</td>\n",
       "      <td>66</td>\n",
       "      <td>0</td>\n",
       "      <td>10</td>\n",
       "      <td>46.10</td>\n",
       "      <td>d</td>\n",
       "      <td>User340</td>\n",
       "      <td>User340</td>\n",
       "      <td>User</td>\n",
       "      <td>user_graph</td>\n",
       "    </tr>\n",
       "    <tr>\n",
       "      <th>2</th>\n",
       "      <td>Missing9</td>\n",
       "      <td>0</td>\n",
       "      <td>0</td>\n",
       "      <td>8</td>\n",
       "      <td>116</td>\n",
       "      <td>16</td>\n",
       "      <td>student</td>\n",
       "      <td>NaN</td>\n",
       "      <td>NaN</td>\n",
       "      <td>NaN</td>\n",
       "      <td>...</td>\n",
       "      <td>NaN</td>\n",
       "      <td>NaN</td>\n",
       "      <td>NaN</td>\n",
       "      <td>NaN</td>\n",
       "      <td>NaN</td>\n",
       "      <td>NaN</td>\n",
       "      <td>Missing9</td>\n",
       "      <td>Missing9</td>\n",
       "      <td>Missing</td>\n",
       "      <td>user_graph</td>\n",
       "    </tr>\n",
       "    <tr>\n",
       "      <th>6</th>\n",
       "      <td>User265</td>\n",
       "      <td>2</td>\n",
       "      <td>0</td>\n",
       "      <td>12</td>\n",
       "      <td>633</td>\n",
       "      <td>64</td>\n",
       "      <td>student</td>\n",
       "      <td>User265</td>\n",
       "      <td>29</td>\n",
       "      <td>0</td>\n",
       "      <td>...</td>\n",
       "      <td>33</td>\n",
       "      <td>65</td>\n",
       "      <td>80</td>\n",
       "      <td>11</td>\n",
       "      <td>59.54</td>\n",
       "      <td>c</td>\n",
       "      <td>User265</td>\n",
       "      <td>User265</td>\n",
       "      <td>User</td>\n",
       "      <td>user_graph</td>\n",
       "    </tr>\n",
       "    <tr>\n",
       "      <th>20</th>\n",
       "      <td>User281</td>\n",
       "      <td>4</td>\n",
       "      <td>0</td>\n",
       "      <td>21</td>\n",
       "      <td>349</td>\n",
       "      <td>74</td>\n",
       "      <td>student</td>\n",
       "      <td>User281</td>\n",
       "      <td>40</td>\n",
       "      <td>0</td>\n",
       "      <td>...</td>\n",
       "      <td>0</td>\n",
       "      <td>91</td>\n",
       "      <td>100</td>\n",
       "      <td>14</td>\n",
       "      <td>75.11</td>\n",
       "      <td>a</td>\n",
       "      <td>User281</td>\n",
       "      <td>User281</td>\n",
       "      <td>User</td>\n",
       "      <td>user_graph</td>\n",
       "    </tr>\n",
       "  </tbody>\n",
       "</table>\n",
       "<p>5 rows × 25 columns</p>\n",
       "</div>"
      ],
      "text/plain": [
       "         uid  asks  answers  posts  views  days     type Student ID  \\\n",
       "0    User340     0        0      0     20     3  student    User340   \n",
       "1    User340     1        0      2     26     6  student    User340   \n",
       "2   Missing9     0        0      8    116    16  student        NaN   \n",
       "6    User265     2        0     12    633    64  student    User265   \n",
       "20   User281     4        0     21    349    74  student    User281   \n",
       "\n",
       "    Assignment 1 [40]  Assignment 2 [40]     ...      Assignment 6 [40]  \\\n",
       "0                   0                 27     ...                     25   \n",
       "1                   0                 27     ...                     25   \n",
       "2                 NaN                NaN     ...                    NaN   \n",
       "6                  29                  0     ...                     33   \n",
       "20                 40                  0     ...                      0   \n",
       "\n",
       "    Project 3 [100]  Final Exam [100]  Peer Feedback [15]  Course Grade  \\\n",
       "0                66                 0                  10         46.10   \n",
       "1                66                 0                  10         46.10   \n",
       "2               NaN               NaN                 NaN           NaN   \n",
       "6                65                80                  11         59.54   \n",
       "20               91               100                  14         75.11   \n",
       "\n",
       "    grade_bucket        id     label  user_type   type_data  \n",
       "0              d   User340   User340       User  user_graph  \n",
       "1              d   User340   User340       User  user_graph  \n",
       "2            NaN  Missing9  Missing9    Missing  user_graph  \n",
       "6              c   User265   User265       User  user_graph  \n",
       "20             a   User281   User281       User  user_graph  \n",
       "\n",
       "[5 rows x 25 columns]"
      ]
     },
     "execution_count": 117,
     "metadata": {},
     "output_type": "execute_result"
    }
   ],
   "source": [
    "nodes_withS[(nodes_withS.type_data == 'user_graph')].head()"
   ]
  },
  {
   "cell_type": "code",
   "execution_count": null,
   "metadata": {
    "collapsed": true
   },
   "outputs": [],
   "source": []
  }
 ],
 "metadata": {
  "kernelspec": {
   "display_name": "Python 2",
   "language": "python",
   "name": "python2"
  },
  "language_info": {
   "codemirror_mode": {
    "name": "ipython",
    "version": 2
   },
   "file_extension": ".py",
   "mimetype": "text/x-python",
   "name": "python",
   "nbconvert_exporter": "python",
   "pygments_lexer": "ipython2",
   "version": "2.7.5"
  }
 },
 "nbformat": 4,
 "nbformat_minor": 0
}
