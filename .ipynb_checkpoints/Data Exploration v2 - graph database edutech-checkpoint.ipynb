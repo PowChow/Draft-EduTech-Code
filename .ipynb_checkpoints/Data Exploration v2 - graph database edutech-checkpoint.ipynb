{
 "cells": [
  {
   "cell_type": "code",
   "execution_count": 1,
   "metadata": {
    "collapsed": false
   },
   "outputs": [],
   "source": [
    "import pandas as pd\n",
    "import unicodecsv as csv\n",
    "from __future__ import print_function\n",
    "import untangle\n",
    "import xmltodict\n",
    "import re"
   ]
  },
  {
   "cell_type": "code",
   "execution_count": 2,
   "metadata": {
    "collapsed": false
   },
   "outputs": [],
   "source": [
    "#created json file from beautify json\n",
    "import json\n",
    "j = open('./2015EduTech/2015edutech_class_contents.json').read()\n",
    "\n",
    "data = json.loads(j)"
   ]
  },
  {
   "cell_type": "code",
   "execution_count": 3,
   "metadata": {
    "collapsed": true
   },
   "outputs": [],
   "source": [
    "#keep the following keys from content\n",
    "ckeys = ['created', 'unique_views', 'no_answer_followup', 'id', 'e-log', \n",
    "         'type', 'tags', 'history', 'children', 'tag-good-arr', 'tag-good']\n",
    "ekeys = ['data', 'anon', 'when', 'type', 'to', 'uid', 'folders']\n",
    "hkeys = ['anon', 'created', 'subject', 'uid', 'content']\n",
    "childkeys = [u'folders',u'updated', u'no_upvotes', u'uid', u'no_answer',u'data',\n",
    " u'd-bucket', u'id',u'anon',u'bucket_name',u'created',u'config',u'bucket_order',\n",
    " u'type',u'children', u'subject']"
   ]
  },
  {
   "cell_type": "code",
   "execution_count": 4,
   "metadata": {
    "collapsed": false
   },
   "outputs": [
    {
     "data": {
      "text/plain": [
       "{u'anon': u'no',\n",
       " u'content': u'<p>Hey [firstname]!</p>\\n<p></p>\\n<p>I just wanted to reach out and thank you real quick for the incredible peer reviews you&#39;ve been leaving for your peers. You&#39;ve really gone above and beyond in improving the class for others, and I wanted to make sure you knew that was appreciated. It&#39;s people like you that are the reason I believe a class like this can succeed in this medium in the first place -- you elevate the class experience for everyone around you.</p>\\n<p></p>\\n<p>Thanks again!</p>',\n",
       " u'created': {u'__text': u'2015-09-24T03:06:47Z', u'_type': u'datetime'},\n",
       " u'subject': u'Thank you!',\n",
       " u'uid': u'Teacher2'}"
      ]
     },
     "execution_count": 4,
     "metadata": {},
     "output_type": "execute_result"
    }
   ],
   "source": [
    "data['contents']['content'][400]['history']['history']"
   ]
  },
  {
   "cell_type": "code",
   "execution_count": 5,
   "metadata": {
    "collapsed": false
   },
   "outputs": [
    {
     "data": {
      "text/plain": [
       "[u'data', u'anon', u'when', u'type', u'uid']"
      ]
     },
     "execution_count": 5,
     "metadata": {},
     "output_type": "execute_result"
    }
   ],
   "source": [
    "data['contents']['content'][0]['e-log']['e-log'].keys()"
   ]
  },
  {
   "cell_type": "code",
   "execution_count": 6,
   "metadata": {
    "collapsed": false
   },
   "outputs": [
    {
     "data": {
      "text/plain": [
       "488"
      ]
     },
     "execution_count": 6,
     "metadata": {},
     "output_type": "execute_result"
    }
   ],
   "source": [
    "len(data['contents']['content'])"
   ]
  },
  {
   "cell_type": "code",
   "execution_count": 7,
   "metadata": {
    "collapsed": false
   },
   "outputs": [],
   "source": [
    "#print(data['contents']['content'][200]['children']['child'])"
   ]
  },
  {
   "cell_type": "code",
   "execution_count": 8,
   "metadata": {
    "collapsed": false
   },
   "outputs": [
    {
     "name": "stdout",
     "output_type": "stream",
     "text": [
      "Teacher1\n",
      "Student47 &#43; Teacher1: Mentor Discussion\n",
      "idxdhd80h2v1sc\n",
      "5\n",
      "Student47\n",
      "0\n",
      "0\n",
      "Teacher1\n"
     ]
    }
   ],
   "source": [
    "# print(data['contents']['content'][401]['children'])\n",
    "# print(data['contents']['content'][401]['history'])\n",
    "# print(data['contents']['content'][401]['e-log'])\n",
    "#print(data['contents']['content'][200])\n",
    "#details for graphs of interactions\n",
    "print(data['contents']['content'][200]['history']['history']['uid']) #original poster - id of the original poster\n",
    "print(data['contents']['content'][200]['history']['history']['subject']) #original poster - name of the post\n",
    "print(data['contents']['content'][200]['id']) # number of the post\n",
    "\n",
    "print(data['contents']['content'][200]['unique_views']) #original poster views\n",
    "\n",
    "print(data['contents']['content'][200]['children']['child'][0]['uid']) #replies for len of children/child\n",
    "print(data['contents']['content'][200]['children']['child'][0]['no_upvotes']) #upvotes related to this \n",
    "print(data['contents']['content'][200]['children']['child'][0]['no_answer']) #upvotes related to this \n",
    "print(data['contents']['content'][200]['children']['child'][1]['uid'])"
   ]
  },
  {
   "cell_type": "code",
   "execution_count": 9,
   "metadata": {
    "collapsed": false
   },
   "outputs": [],
   "source": [
    "#testing for errors\n",
    "#if 'subject' in contents[488]['history']['history']: print('yes')"
   ]
  },
  {
   "cell_type": "code",
   "execution_count": 10,
   "metadata": {
    "collapsed": false
   },
   "outputs": [],
   "source": [
    "# loop to get all the set of conversations and replies...\n",
    "# table nodes: id, label (userid with user_alias & posts_id with subject)\n",
    "# table edges: source, target, type (directed), label(posts, users), weight (to be calculated) \n",
    "tnodes = [] \n",
    "tedges = []\n",
    "\n",
    "contents = data['contents']['content']\n",
    "for i in range(0, len(contents)-1):\n",
    "    #print(i)\n",
    "    #add posts and users to list of nodes\n",
    "    post_id = contents[i]['id'] if 'id' in contents[i] else None\n",
    "    post_subject = contents[i]['history']['history']['subject'] if ('subject' in contents[i]['history']['history']) & ('history' in contents[i]) else None    \n",
    "    post_views = contents[i]['unique_views'] if 'unique_views' in contents[i] else None\n",
    "\n",
    "\n",
    "    #no user name because anonymous post \n",
    "    user_id = contents[i]['history']['history']['uid'] if 'uid' in contents[i]['history']['history'] else None\n",
    "    \n",
    "    tnodes.append((post_id, post_subject))\n",
    "    tnodes.append((user_id, user_id ))\n",
    "    \n",
    "    reply_len = len(contents[i]['children']['child']) if 'child' in contents[i]['children'] else 0\n",
    "    #column name: user_id, post_id, type, type_data, no_replies, unique_views, no_reply_upvotes, no_reply_answer\n",
    "    tedges.append((user_id, post_id, 'directed', 'post_graph', reply_len, post_views, 0, 0))\n",
    "\n",
    "    \n",
    "    try: \n",
    "        for ch in range(0, reply_len):\n",
    "                reply_uid = contents[i]['children']['child'][ch]['uid']\n",
    "                reply_upvote = contents[i]['children']['child'][ch]['no_upvotes'] #upvotes related to this \n",
    "                reply_ans = contents[i]['children']['child'][ch]['no_answer'] #upvotes related to this \n",
    "\n",
    "                #add -- replier to post\n",
    "                tedges.append((reply_uid, post_id, 'directed', 'post_graph', reply_len, 0, reply_upvote, reply_ans))\n",
    "\n",
    "                #add -- replier to original user\n",
    "                #if user_id is None: \n",
    "                #    print(contents[i]['history'])\n",
    "                \n",
    "                tedges.append((reply_uid, user_id, 'directed', 'user_graph', reply_len, 0, reply_upvote, reply_ans))\n",
    "    except: \n",
    "        pass\n",
    "# print(tedges)"
   ]
  },
  {
   "cell_type": "code",
   "execution_count": 11,
   "metadata": {
    "collapsed": false
   },
   "outputs": [
    {
     "name": "stdout",
     "output_type": "stream",
     "text": [
      "559\n"
     ]
    }
   ],
   "source": [
    "nodes = pd.DataFrame(list(set(tnodes)), columns=['id', 'label']).sort('id')\n",
    "print(len(nodes))\n",
    "nodes.to_csv('./user_data/2015edutech_nodes_all.csv', encoding='utf-8')"
   ]
  },
  {
   "cell_type": "code",
   "execution_count": 12,
   "metadata": {
    "collapsed": false
   },
   "outputs": [
    {
     "data": {
      "text/plain": [
       "{u'children': {u'_type': u'array'},\n",
       " u'config': {u'is_default': u'1'},\n",
       " u'created': {u'__text': u'2015-08-17T01:24:18Z', u'_type': u'datetime'},\n",
       " u'e-log': {u'_type': u'array',\n",
       "  u'e-log': {u'anon': u'no',\n",
       "   u'data': u'idf8noikqju6wi',\n",
       "   u'type': u'create',\n",
       "   u'uid': u'gd6v7134AUa',\n",
       "   u'when': {u'__text': u'2015-08-17T01:24:18Z', u'_type': u'datetime'}}},\n",
       " u'folders': {u'_type': u'array'},\n",
       " u'history': {u'_type': u'array',\n",
       "  u'history': {u'anon': u'no',\n",
       "   u'content': u\"\\nPiazza is a Q&A platform designed to get you great answers from classmates and instructors fast. We've put together this list of tips you might find handy as you get started:\\n\\n1.  <b>Ask questions!</b>\\n\\nThe best way to get answers is to ask questions! Ask questions on Piazza rather than emailing your teaching staff so everyone can benefit from the response (and so you can get answers from classmates who are up as late as you are).\\n\\n2.  <b>Edit questions and answers wiki-style.</b>\\n\\nThink of Piazza as a Q&A wiki for your class. Every question has just a single <b>students' answer</b> that students can edit collectively (and a single <b>instructors\\u2019 answer</b> for instructors).\\n\\n3.  <b>Add a followup to comment or ask further questions.</b>\\n\\nTo comment on or ask further questions about a post, start a <b>followup discussion</b>. [firstname] it resolved when the issue has been addressed, and add any relevant information back into the Q&A above.\\n\\n4.  <b>Go anonymous.</b>\\n\\nShy? No problem. You can always opt to post or edit anonymously.\\n\\n5.  <b>Tag your posts.</b>\\n\\nIt's far more convenient to find all posts about your Homework 3 or Midterm 1 when the posts are tagged. Type a \\u201c#\\u201d before a key word to tag. Click a blue tag in a post or the question feed to filter for all posts that share that tag.\\n\\n6.  <b>Format code and equations.</b>\\n\\nAd[lastname]g a code snippet? Click the <b>pre</b> or <b>tt</b> button in the question editor to add pre-formatted or inline teletype text. \\nMathematical equation? Click the <b>Fx</b> button to access the LaTeX editor to build a nicely formatted equation.\\n\\n7.  <b>View and download class details and resources.</b>\\n\\nClick the <b>Course Page</b> button in your top bar to access the class syllabus, staff contact information, office hours details, and course resources\\u2014all in one place!\\n\\n\\nContact the Piazza Team anytime with questions or comments at <b>team@piazza.com</b>. We love feedback!\",\n",
       "   u'created': {u'__text': u'2015-08-17T01:24:18Z', u'_type': u'datetime'},\n",
       "   u'subject': u'Welcome to Piazza!',\n",
       "   u'uid': u'gd6v7134AUa'}},\n",
       " u'id': u'idf8noiig7h6wh',\n",
       " u'no_answer_followup': u'0',\n",
       " u'nr': u'1',\n",
       " u'status': u'active',\n",
       " u'tag-good': {u'_type': u'array'},\n",
       " u'tag-good-arr': {u'_type': u'array'},\n",
       " u'tags': {u'_type': u'array', u'tag': u'student'},\n",
       " u'type': u'note',\n",
       " u'unique_views': u'0'}"
      ]
     },
     "execution_count": 12,
     "metadata": {},
     "output_type": "execute_result"
    }
   ],
   "source": [
    "#contents[contents[i]['id'] == 'idf9ojdm3ty40e'] #generic piazza post\n",
    "#contents[contents[i]['id'] == 'idfaa4du2eb3bd '] #generic piazza post\n",
    "#contents[contents[i]['id'] == 'idfaa4du2eb3bd'] #generic piazza post\n",
    "contents[contents[i]['id'] == 'ifg3mach1xy5yx'] #generic piazza post\n"
   ]
  },
  {
   "cell_type": "code",
   "execution_count": 13,
   "metadata": {
    "collapsed": false
   },
   "outputs": [
    {
     "name": "stdout",
     "output_type": "stream",
     "text": [
      "4821\n"
     ]
    },
    {
     "name": "stderr",
     "output_type": "stream",
     "text": [
      "/Library/Python/2.7/site-packages/ipython-3.0.0_b1-py2.7.egg/IPython/kernel/__main__.py:7: SettingWithCopyWarning: \n",
      "A value is trying to be set on a copy of a slice from a DataFrame.\n",
      "Try using .loc[row_indexer,col_indexer] = value instead\n",
      "\n",
      "See the the caveats in the documentation: http://pandas.pydata.org/pandas-docs/stable/indexing.html#indexing-view-versus-copy\n"
     ]
    }
   ],
   "source": [
    "edges = pd.DataFrame(tedges, columns=['source', 'target', 'type', 'type_data', 'no_replies', 'unique_views',\n",
    "                                      'no_reply_upvotes', 'no_reply_answer']).sort(['no_replies', 'unique_views'])\n",
    "print(len(edges))\n",
    "#removing rows with null values\n",
    "edges2 = edges.dropna(how='any', inplace=False) \n",
    "edges2['weights'] = edges2.apply(lambda x: int(x.no_replies) + \n",
    "                                 int(x.unique_views) + int(x.no_reply_upvotes) + int(x.no_reply_answer), axis=1)\n",
    "\n",
    "edges2.to_csv('./user_data/2015edutech_edges_all.csv', encoding='utf-8')"
   ]
  },
  {
   "cell_type": "code",
   "execution_count": 14,
   "metadata": {
    "collapsed": false
   },
   "outputs": [
    {
     "data": {
      "text/html": [
       "<div>\n",
       "<table border=\"1\" class=\"dataframe\">\n",
       "  <thead>\n",
       "    <tr style=\"text-align: right;\">\n",
       "      <th></th>\n",
       "      <th>id</th>\n",
       "      <th>label</th>\n",
       "    </tr>\n",
       "  </thead>\n",
       "  <tbody>\n",
       "    <tr>\n",
       "      <th>303</th>\n",
       "      <td>Misc1</td>\n",
       "      <td>Misc1</td>\n",
       "    </tr>\n",
       "    <tr>\n",
       "      <th>118</th>\n",
       "      <td>Misc3</td>\n",
       "      <td>Misc3</td>\n",
       "    </tr>\n",
       "    <tr>\n",
       "      <th>553</th>\n",
       "      <td>Student1</td>\n",
       "      <td>Student1</td>\n",
       "    </tr>\n",
       "    <tr>\n",
       "      <th>35</th>\n",
       "      <td>Student10</td>\n",
       "      <td>Student10</td>\n",
       "    </tr>\n",
       "    <tr>\n",
       "      <th>181</th>\n",
       "      <td>Student100</td>\n",
       "      <td>Student100</td>\n",
       "    </tr>\n",
       "    <tr>\n",
       "      <th>517</th>\n",
       "      <td>Student101</td>\n",
       "      <td>Student101</td>\n",
       "    </tr>\n",
       "    <tr>\n",
       "      <th>244</th>\n",
       "      <td>Student13</td>\n",
       "      <td>Student13</td>\n",
       "    </tr>\n",
       "    <tr>\n",
       "      <th>26</th>\n",
       "      <td>Student14</td>\n",
       "      <td>Student14</td>\n",
       "    </tr>\n",
       "    <tr>\n",
       "      <th>384</th>\n",
       "      <td>Student15</td>\n",
       "      <td>Student15</td>\n",
       "    </tr>\n",
       "    <tr>\n",
       "      <th>419</th>\n",
       "      <td>Student16</td>\n",
       "      <td>Student16</td>\n",
       "    </tr>\n",
       "  </tbody>\n",
       "</table>\n",
       "</div>"
      ],
      "text/plain": [
       "             id       label\n",
       "303       Misc1       Misc1\n",
       "118       Misc3       Misc3\n",
       "553    Student1    Student1\n",
       "35    Student10   Student10\n",
       "181  Student100  Student100\n",
       "517  Student101  Student101\n",
       "244   Student13   Student13\n",
       "26    Student14   Student14\n",
       "384   Student15   Student15\n",
       "419   Student16   Student16"
      ]
     },
     "execution_count": 14,
     "metadata": {},
     "output_type": "execute_result"
    }
   ],
   "source": [
    "#see if there is a pattern to rows with blank values\n",
    "#edges2[pd.isnull(edges).any(axis=1)]\n",
    "#print(edges2.type_data.unique())\n",
    "#print(edges2.head())\n",
    "nodes.head(10)"
   ]
  },
  {
   "cell_type": "code",
   "execution_count": 15,
   "metadata": {
    "collapsed": false
   },
   "outputs": [
    {
     "name": "stderr",
     "output_type": "stream",
     "text": [
      "/Library/Python/2.7/site-packages/ipython-3.0.0_b1-py2.7.egg/IPython/kernel/__main__.py:11: SettingWithCopyWarning: \n",
      "A value is trying to be set on a copy of a slice from a DataFrame.\n",
      "Try using .loc[row_indexer,col_indexer] = value instead\n",
      "\n",
      "See the the caveats in the documentation: http://pandas.pydata.org/pandas-docs/stable/indexing.html#indexing-view-versus-copy\n"
     ]
    }
   ],
   "source": [
    "#add user_type to both nodes and edges\n",
    "def user_type(s):\n",
    "    test_s = re.findall(r'^[a-zA-z]+\\D', s)\n",
    "    if test_s:\n",
    "        return test_s[0]\n",
    "    else:\n",
    "        return None\n",
    "        \n",
    "\n",
    "#edges2.apply(lambda x: print(str(x)))\n",
    "edges2['user_type'] = edges2.apply(lambda x: user_type(str(x.source)), axis=1)\n",
    "nodes['user_type'] = nodes.apply(lambda x: user_type(str(x.id)), axis=1)\n",
    "nodes['user_type'] = nodes.apply(lambda x: x.user_type.encode('utf-8'), axis=1)"
   ]
  },
  {
   "cell_type": "code",
   "execution_count": 27,
   "metadata": {
    "collapsed": false
   },
   "outputs": [],
   "source": [
    "#add data_type field to nodes\n",
    "def type_data(s):\n",
    "    try: \n",
    "        if (s == 'Student') | (s == 'Misc') | (s == 'Teacher') | (s == 'Guest'):\n",
    "            return 'user_graph'\n",
    "        else: \n",
    "            return 'post_graph'\n",
    "    except:\n",
    "        return 'post_graph'\n",
    "\n",
    "nodes['type_data'] = nodes.apply(lambda x: type_data(str(x.user_type)), axis=1)\n"
   ]
  },
  {
   "cell_type": "code",
   "execution_count": 29,
   "metadata": {
    "collapsed": false
   },
   "outputs": [],
   "source": [
    "#nodes['type_data'] = nodes.apply(lambda x: x.type_data.decode('utf-8'), axis=1)\n",
    "edges2.to_csv('./user_data/2015edutech_edges_user.csv', encoding='utf-8')"
   ]
  },
  {
   "cell_type": "code",
   "execution_count": 20,
   "metadata": {
    "collapsed": false
   },
   "outputs": [],
   "source": [
    "#post_graph\n",
    "#create spreadsheets for nodes and edges\n",
    "# with and without instructors\n",
    "\n",
    "edges2[(edges2.type_data == 'post_graph') \n",
    "       & (edges2.user_type == 'Student')].to_csv('./user_data/2015edutech_edges_post_studentsonly.csv')\n",
    "edges2[(edges2.type_data == 'post_graph')].to_csv('./user_data/2015edutech_edges_post.csv')\n",
    "\n",
    "nodes[(nodes.type_data == 'post_graph')].to_csv('./user_data/2015edutech_nodes_post.csv',\n",
    "                                               encoding='utf-8')\n",
    "\n",
    "#output null values\n",
    "# nodes[(nodes.type_data == 'post_graph') \n",
    "#        & (nodes.user_type == 'Student')].to_csv('./user_data/2015edutech_nodes_post_studentsonly.csv')"
   ]
  },
  {
   "cell_type": "code",
   "execution_count": 21,
   "metadata": {
    "collapsed": false
   },
   "outputs": [
    {
     "name": "stdout",
     "output_type": "stream",
     "text": [
      "Index([u'Unnamed: 0', u'uid', u'asks', u'answers', u'posts', u'views', u'days',\n",
      "       u'type', u'Student ID', u'Student Name', u'Personal Statement [2]',\n",
      "       u'Assignment 1 [2]', u'Assignment 2 [2]', u'Mini-Proposal [2]',\n",
      "       u'Personal Question [2]', u'Proposal -- First Draft [2]',\n",
      "       u'Proposal -- Final Draft [2]', u'Progress Report [1]', u'Trailer [2]',\n",
      "       u'Final Project [2]', u'Project Paper [2]', u'Project Presentation [2]',\n",
      "       u'Final Grade [23]', u'grade_bucket'],\n",
      "      dtype='object')\n",
      "Index([u'id', u'label', u'user_type', u'type_data'], dtype='object')\n"
     ]
    }
   ],
   "source": [
    "EU = pd.read_csv('./user_data/users_EduTech_cleaned.csv')\n",
    "print(EU.columns)\n",
    "print(nodes.columns)"
   ]
  },
  {
   "cell_type": "code",
   "execution_count": 22,
   "metadata": {
    "collapsed": false
   },
   "outputs": [],
   "source": [
    "nodes_withS = pd.merge(EU, nodes, how='left', left_on='uid', right_on='id')\n",
    "nodes_withS.to_csv('./user_data/2015edutech_nodes_with_all_stuData')"
   ]
  },
  {
   "cell_type": "code",
   "execution_count": 131,
   "metadata": {
    "collapsed": false
   },
   "outputs": [],
   "source": [
    "#nodes_withS.drop('Unnamed: 0', axis=1,\n",
    "#                 inplace=True)"
   ]
  },
  {
   "cell_type": "code",
   "execution_count": 134,
   "metadata": {
    "collapsed": true
   },
   "outputs": [],
   "source": [
    "# user_graph\n",
    "# create spreadsheets for nodes and edges\n",
    "# with and without instructors\n",
    "\n",
    "edges2[(edges2.type_data == 'user_graph') \n",
    "       & (edges2.user_type == 'Student')].to_csv('./user_data/2015edutech_edges_user_studentsonly.csv')\n",
    "edges2[(edges2.type_data == 'user_graph')].to_csv('./user_data/2015edutech_edges_user.csv')\n",
    "\n",
    "nodes_withS[(nodes_withS.type_data == 'user_graph')].to_csv('./user_data/2015edutech_nodes_user.csv',\n",
    "                                               encoding='utf-8', delimiter=';')"
   ]
  },
  {
   "cell_type": "code",
   "execution_count": null,
   "metadata": {
    "collapsed": true
   },
   "outputs": [],
   "source": []
  }
 ],
 "metadata": {
  "kernelspec": {
   "display_name": "Python 2",
   "language": "python",
   "name": "python2"
  },
  "language_info": {
   "codemirror_mode": {
    "name": "ipython",
    "version": 2
   },
   "file_extension": ".py",
   "mimetype": "text/x-python",
   "name": "python",
   "nbconvert_exporter": "python",
   "pygments_lexer": "ipython2",
   "version": "2.7.5"
  }
 },
 "nbformat": 4,
 "nbformat_minor": 0
}
